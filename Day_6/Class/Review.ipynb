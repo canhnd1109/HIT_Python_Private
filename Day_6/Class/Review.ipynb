{
  "nbformat": 4,
  "nbformat_minor": 0,
  "metadata": {
    "colab": {
      "provenance": [],
      "gpuType": "T4"
    },
    "kernelspec": {
      "name": "python3",
      "display_name": "Python 3"
    },
    "language_info": {
      "name": "python"
    },
    "accelerator": "GPU"
  },
  "cells": [
    {
      "cell_type": "markdown",
      "source": [
        "#1. String\n"
      ],
      "metadata": {
        "id": "IcivPJH1aE3h"
      }
    },
    {
      "cell_type": "markdown",
      "source": [
        "## Khái niệm"
      ],
      "metadata": {
        "id": "-XGtrYfJb0gX"
      }
    },
    {
      "cell_type": "markdown",
      "source": [
        "- Một string là danh sách các ký tự và được đặt trong dấu ' ' hoặc \" \"\n",
        "- String là một kiểu dữ liễu immutable, tức là chúng ta không thể thay đổi được từng giá trị riêng lẻ của string"
      ],
      "metadata": {
        "id": "PocVXUVSaMMM"
      }
    },
    {
      "cell_type": "code",
      "source": [
        "my_string = \"Pham Dinh Tien\"\n",
        "print(f\"{type(my_string)} : {my_string}\")"
      ],
      "metadata": {
        "id": "9cgWRPW5cbYt"
      },
      "execution_count": null,
      "outputs": []
    },
    {
      "cell_type": "markdown",
      "source": [
        "## Sự khác biệt của ' ' và \" \""
      ],
      "metadata": {
        "id": "ifoKEFFjcas3"
      }
    },
    {
      "cell_type": "markdown",
      "source": [
        "- Hãy thử chạy đoạn code sau nhé :)))"
      ],
      "metadata": {
        "id": "QFDtUVijdWg1"
      }
    },
    {
      "cell_type": "code",
      "execution_count": null,
      "metadata": {
        "id": "hpdRILKSaBMq"
      },
      "outputs": [],
      "source": [
        "a_random_string = 'I'm the best'\n",
        "print(f\"{type(a_random_string)} : {a_random_string}\")"
      ]
    },
    {
      "cell_type": "markdown",
      "source": [
        "- Mọi người có thể thấy rằng Python chỉ nhận được chuỗi 'I' thuộc vào class String thôi, đoạn văn bản **m the best** lúc này sẽ không có ý nghĩa gì, Python sẽ báo lỗi\n",
        "- Sau đó hãy thử lại một đoạn code đã được sửa lại như sau :>"
      ],
      "metadata": {
        "id": "5VnuDiuod8pB"
      }
    },
    {
      "cell_type": "code",
      "source": [
        "a_random_string = \"I'm the best\"\n",
        "print(f\"{type(a_random_string)} : {a_random_string}\")"
      ],
      "metadata": {
        "id": "QBeIIj0rd79k"
      },
      "execution_count": null,
      "outputs": []
    },
    {
      "cell_type": "markdown",
      "source": [
        "- Các bạn có thể thấy rằng lúc này Python đã lấy hết được ý mà chúng ta muốn truyền đạt rồi, vì vậy mọi người lưu ý nhé"
      ],
      "metadata": {
        "id": "BXaj1lptfCCJ"
      }
    },
    {
      "cell_type": "markdown",
      "source": [
        "- Nhưng trường hợp có cả ký tự ' hoặc \" ở trong đoạn văn bản muốn truyền đạt thì sao ? Hãy xem tiếp ví dụ sau"
      ],
      "metadata": {
        "id": "mldYRCxEflh9"
      }
    },
    {
      "cell_type": "code",
      "source": [
        "a_random_string = \"You've been my \"crush\" so far\"\n",
        "print(f\"{type(a_random_string)} : {a_random_string}\")"
      ],
      "metadata": {
        "id": "SvXFkx41j-b3"
      },
      "execution_count": null,
      "outputs": []
    },
    {
      "cell_type": "markdown",
      "source": [
        "- Lúc này Python lại thấy **crush** chả có ý nghĩa gì cả, chúng ta nên tập trung vào vấn đề chính thôi\n",
        "- Nhưng không đối với anh Tiến, **crush** lại rất quan trọng, anh Tiến tìm cách chỉnh sửa để Python có thể chấp nhận **crush**, hãy xem xét tiếp ví dụ sau đây sau bao cố gắng của anh Tiến:"
      ],
      "metadata": {
        "id": "hfZFbyMckJ9y"
      }
    },
    {
      "cell_type": "code",
      "source": [
        "a_random_string = \"\"\"\n",
        "                  \"You've been my \"crush\" so far\"\n",
        "                  \"You've been my \"crush\" so far\"\n",
        "                  \"You've been my \"crush\" so far\"\n",
        "                  Three times for something important :>\n",
        "                  \"\"\"\n",
        "another_random_string = '''\n",
        "                        \"You've been my \"girlfriend\" so far\"\n",
        "                        \"You've been my \"girlfriend\" so far\"\n",
        "                        \"You've been my \"girlfriend\" so far\"\n",
        "                        Three times for something important :>\n",
        "                        '''\n",
        "\n",
        "my_string = '''Finally, you're my \"wife\"'''\n",
        "\n",
        "print(f\"{type(a_random_string)} : {a_random_string}\")\n",
        "print(f\"{type(another_random_string)} : {another_random_string}\")\n",
        "print(f\"{type(my_string)} : {my_string}\")"
      ],
      "metadata": {
        "id": "8HQNtgh4kJbq",
        "colab": {
          "base_uri": "https://localhost:8080/"
        },
        "outputId": "ab782824-4cec-4421-dbae-9334c2cce0af"
      },
      "execution_count": null,
      "outputs": [
        {
          "output_type": "stream",
          "name": "stdout",
          "text": [
            "<class 'str'> : \n",
            "                  \"You've been my \"crush\" so far\"\n",
            "                  \"You've been my \"crush\" so far\"\n",
            "                  \"You've been my \"crush\" so far\"\n",
            "                  Three times for something important :>\n",
            "                  \n",
            "<class 'str'> : \n",
            "                        \"You've been my \"crush\" so far\"\n",
            "                        \"You've been my \"crush\" so far\"\n",
            "                        \"You've been my \"crush\" so far\"\n",
            "                        Three times for something important :>\n",
            "                        \n",
            "<class 'str'> : Finally, you're my \"girlfriend\"\n"
          ]
        }
      ]
    },
    {
      "cell_type": "markdown",
      "source": [
        "## Escape Sequence"
      ],
      "metadata": {
        "id": "FoN9vKogFC-S"
      }
    },
    {
      "cell_type": "markdown",
      "source": [
        "- Escape Sequence là tập hợp các ký tự đặc biệt trong Python\n",
        "  + \\a: Phát ra tiếng bíp\n",
        "  + \\b: Lùi con trỏ về xóa ký tự trước đó (ký tự ở đầu chuỗi và cuối chuỗi sẽ bị bỏ qua)\n",
        "  + \\n: Xuống dòng\n",
        "  + \\t: Giống khi chúng ta nhấn **tab** trên bàn phím\n",
        "  + \\\\': Dấu nháy đơn\n",
        "  + \\\\\": Dấu nháy kép\n",
        "  + \\\\\\\\: Ký tự \\\\"
      ],
      "metadata": {
        "id": "Y3p9OHmSFS7Y"
      }
    },
    {
      "cell_type": "code",
      "source": [
        "print(\"1. PhamDinh\\bTien\")\n",
        "print(\"2. Pham\\nDinh\\nTien\")\n",
        "print(\"3. Pham\\tDinh\\tTien\")\n",
        "print(\"4. Pham\\'Dinh\\'Tien\")\n",
        "print('5. Pham\\\"Dinh\\\"Tien')\n",
        "print(\"6. Pham\\\\Dinh\\\\Tien\")\n",
        "\"7. PhamDinhTien\\a\""
      ],
      "metadata": {
        "colab": {
          "base_uri": "https://localhost:8080/",
          "height": 174
        },
        "id": "3HIOnlWeFFvT",
        "outputId": "2b95de14-c3db-4979-bab1-676f7c7122e1"
      },
      "execution_count": null,
      "outputs": [
        {
          "output_type": "stream",
          "name": "stdout",
          "text": [
            "1. PhamDinh\bTien\n",
            "2. Pham\n",
            "Dinh\n",
            "Tien\n",
            "3. Pham\tDinh\tTien\n",
            "4. Pham'Dinh'Tien\n",
            "5. Pham\"Dinh\"Tien\n",
            "6. Pham\\Dinh\\Tien\n"
          ]
        },
        {
          "output_type": "execute_result",
          "data": {
            "text/plain": [
              "'7. PhamDinhTien\\x07'"
            ],
            "application/vnd.google.colaboratory.intrinsic+json": {
              "type": "string"
            }
          },
          "metadata": {},
          "execution_count": 10
        }
      ]
    },
    {
      "cell_type": "markdown",
      "source": [
        "## Chuỗi trần"
      ],
      "metadata": {
        "id": "iaqyvoIUIkQy"
      }
    },
    {
      "cell_type": "markdown",
      "source": [
        "- Chẳng hạn anh Tiến có một bức ảnh người yêu và bức ảnh đó có địa chỉ file như sau, nhiệm vụ của anh Tiến là dựa trên địa chỉ file và tiến hành xử lý bức ảnh đó bằng Python:\n",
        "  * path = \"C:\\Home\\Desktop\\nguoiyeu\\you.jpg\"\n",
        "- Hãy sử dụng đoạn path trên trong ví dụ sau đây:"
      ],
      "metadata": {
        "id": "QMF92pKjIrb4"
      }
    },
    {
      "cell_type": "code",
      "source": [
        "path = \"C:\\Home\\Desktop\\nguoiyeu\\you.jpg\"\n",
        "print(path)"
      ],
      "metadata": {
        "colab": {
          "base_uri": "https://localhost:8080/"
        },
        "id": "9_ZQn3JcIlz9",
        "outputId": "0b585a97-96fe-44f9-ca8a-b0e64b92a5ce"
      },
      "execution_count": null,
      "outputs": [
        {
          "output_type": "stream",
          "name": "stdout",
          "text": [
            "C:\\Home\\Desktop\n",
            "guoiyeu\\you.jpg\n"
          ]
        }
      ]
    },
    {
      "cell_type": "markdown",
      "source": [
        "- Có thể thấy rằng trong chuỗi trên đã xuất hiện một escape sequence \\n khiến cho chuỗi bị xuống dòng giữa chừng, để giải quyết vấn đề này, chúng ta sử dụng chuỗi trần:"
      ],
      "metadata": {
        "id": "O_UMx_IGJT3a"
      }
    },
    {
      "cell_type": "code",
      "source": [
        "path = r\"C:\\Home\\Desktop\\nguoiyeu\\you.jpg\"\n",
        "print(path)"
      ],
      "metadata": {
        "colab": {
          "base_uri": "https://localhost:8080/"
        },
        "id": "3g4dZyYTKfo0",
        "outputId": "5b9e87e2-539c-48ef-ef3f-fd9d8e38030e"
      },
      "execution_count": null,
      "outputs": [
        {
          "output_type": "stream",
          "name": "stdout",
          "text": [
            "C:\\Home\\Desktop\\nguoiyeu\\you.jpg\n"
          ]
        }
      ]
    },
    {
      "cell_type": "markdown",
      "source": [
        "- Việc xử lý chuỗi file đã xong, anh Tiến đã có thể tìm file ảnh người yêu nhưng mà lại bị lỗi nữa xảy ra: **FileNotFoundError: No such file or directory**\n",
        "- Các em giúp anh Tiến với =)))"
      ],
      "metadata": {
        "id": "1yJpgOS6LmDb"
      }
    },
    {
      "cell_type": "markdown",
      "source": [
        "## Một số toán tử với chuỗi"
      ],
      "metadata": {
        "id": "dsIqshlPz-yG"
      }
    },
    {
      "cell_type": "markdown",
      "source": [
        "### Toán tử +"
      ],
      "metadata": {
        "id": "ZxyoVjlg0JFR"
      }
    },
    {
      "cell_type": "markdown",
      "source": [
        "- Toán tử này giúp chúng ta nối các chuỗi lại với nhau"
      ],
      "metadata": {
        "id": "OAO8ieJg0tEG"
      }
    },
    {
      "cell_type": "code",
      "source": [
        "my_string = \"I \"\n",
        "your_string = \" you\"\n",
        "our_string = \"love\"\n",
        "love_string = my_string + our_string + your_string\n",
        "print(f\"{type(love_string)}: {love_string}\")"
      ],
      "metadata": {
        "id": "5tfS7X2X0K4_"
      },
      "execution_count": null,
      "outputs": []
    },
    {
      "cell_type": "markdown",
      "source": [
        "### Toán tử  *"
      ],
      "metadata": {
        "id": "LyYybwEa0kmH"
      }
    },
    {
      "cell_type": "markdown",
      "source": [
        "- Toán tử giúp chúng ta tạo ra một chuỗi bằng cách lặp đi lặp lại một chuỗi với số lần mà bạn muốn"
      ],
      "metadata": {
        "id": "RGWe6cF10z73"
      }
    },
    {
      "cell_type": "code",
      "source": [
        "love_string = \"i love u \" * 3\n",
        "print(f\"{type(love_string} : {love_string}\")"
      ],
      "metadata": {
        "id": "fDpWNeMp0p7u"
      },
      "execution_count": null,
      "outputs": []
    },
    {
      "cell_type": "markdown",
      "source": [
        "## Định dạng chuỗi với format()"
      ],
      "metadata": {
        "id": "tnm8uWDr1zS-"
      }
    },
    {
      "cell_type": "markdown",
      "source": [
        "- Dưới đây là một ví dụ cơ bản về cách sử dụng phương thức format() trong Python"
      ],
      "metadata": {
        "id": "jT6bigij2hK4"
      }
    },
    {
      "cell_type": "code",
      "source": [
        "my_string = \"{} love {} so much\".format(\"I\", \"you\")\n",
        "print(f\"{type(my_string} : {my_string}\")"
      ],
      "metadata": {
        "id": "vK8zOAoy18sW"
      },
      "execution_count": null,
      "outputs": []
    },
    {
      "cell_type": "markdown",
      "source": [
        "- Chúng ta có thể thêm các giá trị vị trí tương ứng để truyền các giá trị mà chúng ta mong muốn vào chuỗi"
      ],
      "metadata": {
        "id": "ZIMg5nce2olW"
      }
    },
    {
      "cell_type": "code",
      "source": [
        "my_string = \"{0} {1} {3} so much\".format(\"I\", \"love\", \"hate\", \"you\")\n",
        "your_string = \"{0} {2} {3} so much\".format(\"I\", \"love\", \"hate\", \"you\")\n",
        "print(f\"{type(my_string} : {my_string}\")\n",
        "print(f\"{type(your_string} : {your_string}\")"
      ],
      "metadata": {
        "id": "NGSZMSIS3POp"
      },
      "execution_count": null,
      "outputs": []
    },
    {
      "cell_type": "markdown",
      "source": [
        "- Ngoài ra thì chúng ta có thêm được định dạng của số  như nhị phân, số mũ, số thực, chuyển số sang hệ 8"
      ],
      "metadata": {
        "id": "dfBP11ah3i8n"
      }
    },
    {
      "cell_type": "code",
      "source": [
        "my_string = \"Dạng nhị phân của số  {0} là {0:b}\".format(12)\n",
        "your_string = \"Dạng số mũ của số  {0} là {0:e}\".format(1200000)\n",
        "_string = \"Làm tròn số {0} tới 3 chữ số thập phân {0:.3f}\".format(1/3)\n",
        "meme_string = \"Chuyển số {0} tới hệ 8 là {0:o}\".format(12)\n",
        "print(f\"{type(my_string)} : {my_string}\")\n",
        "print(f\"{type(your_string)} : {your_string}\")\n",
        "print(f\"{type(_string)} : {_string}\")\n",
        "print(f\"{type(meme_string)} : {meme_string}\")"
      ],
      "metadata": {
        "colab": {
          "base_uri": "https://localhost:8080/"
        },
        "id": "rrqZeJWR3xba",
        "outputId": "7924821c-f0f1-49d5-bb1c-b634db401198"
      },
      "execution_count": null,
      "outputs": [
        {
          "output_type": "stream",
          "name": "stdout",
          "text": [
            "<class 'str'> : Dạng nhị phân của số  12 là 1100\n",
            "<class 'str'> : Dạng số mũ của số  1200000 là 1.200000e+06\n",
            "<class 'str'> : Làm tròn số 0.3333333333333333 tới 3 chữ số thập phân 0.333\n",
            "<class 'str'> : Chuyển số 12 tới hệ 8 là 14\n"
          ]
        }
      ]
    },
    {
      "cell_type": "markdown",
      "source": [
        "## Indexing và Slicing"
      ],
      "metadata": {
        "id": "qKm0UOfIAApp"
      }
    },
    {
      "cell_type": "markdown",
      "source": [
        "- Trong Python, các ký tự trong một chuỗi sẽ có số thứ tự từ 0 đến n - 1 từ trái qua phải, và từ -1 đến -n từ phải qua trái"
      ],
      "metadata": {
        "id": "6r_AceNUAUX1"
      }
    },
    {
      "cell_type": "code",
      "source": [
        "my_string = \"Toi Yeu Em Voi Vang\"\n",
        "print(my_string[5])\n",
        "print(my_string[-1])"
      ],
      "metadata": {
        "id": "tasVGFyhAUH9"
      },
      "execution_count": null,
      "outputs": []
    },
    {
      "cell_type": "markdown",
      "source": [
        "- Chúng ta có thể sử dụng slicing cắt một đoạn bất kỳ trong chuỗi cho trước theo cú pháp như sau:\n",
        "  + string[start : stop : step]\n",
        "- Giá trị mặc định của stop là 1, khi truyền vào step dương thì vị trí stop phải ở sau vị trí start, truyền vào step âm thì vị trí stop phải ở trước vị trí start, nếu không sẽ trả về một chuỗi rỗng\n",
        "- Hãy tiếp tục xem tiếp các ví dụ dưới đây"
      ],
      "metadata": {
        "id": "KyuezR5oDoRF"
      }
    },
    {
      "cell_type": "markdown",
      "source": [
        "### Slicing lấy cả chuỗi"
      ],
      "metadata": {
        "id": "Y120dJpwEmNE"
      }
    },
    {
      "cell_type": "code",
      "source": [
        "my_string = \"Vi Ngay Em Dep Nhat La Ngay Anh Mat Em\"\n",
        "print(my_string[:]"
      ],
      "metadata": {
        "id": "p9TUKNpMDmxi"
      },
      "execution_count": null,
      "outputs": []
    },
    {
      "cell_type": "markdown",
      "source": [
        "### Slicing lấy một đoạn trong chuỗi"
      ],
      "metadata": {
        "id": "4f2xrND5ExMw"
      }
    },
    {
      "cell_type": "code",
      "source": [
        "my_string = \"Vi Ngay Em Dep Nhat La Ngay Anh Mat Em\"\n",
        "print(my_string[3:20])"
      ],
      "metadata": {
        "colab": {
          "base_uri": "https://localhost:8080/"
        },
        "id": "lkKfpazyANVb",
        "outputId": "9d858ac1-e2ed-40cd-ceb4-06f747da0111"
      },
      "execution_count": null,
      "outputs": [
        {
          "output_type": "stream",
          "name": "stdout",
          "text": [
            "Ngay Em Dep Nhat \n"
          ]
        }
      ]
    },
    {
      "cell_type": "code",
      "source": [
        "my_string = \"Vi Ngay Em Dep Nhat La Ngay Anh Mat Em\"\n",
        "print(my_string[3:3])"
      ],
      "metadata": {
        "colab": {
          "base_uri": "https://localhost:8080/"
        },
        "id": "EYztBWfbFffV",
        "outputId": "f2dac858-fec1-41ee-e384-5c4624f336da"
      },
      "execution_count": null,
      "outputs": [
        {
          "output_type": "stream",
          "name": "stdout",
          "text": [
            "\n"
          ]
        }
      ]
    },
    {
      "cell_type": "markdown",
      "source": [
        "### Slicing với step lớn hơn 1"
      ],
      "metadata": {
        "id": "cGChlFGCFnn5"
      }
    },
    {
      "cell_type": "code",
      "source": [
        "my_string = \"Vi Ngay Em Dep Nhat La Ngay Anh Mat Em\"\n",
        "print(my_string[3:20:2])"
      ],
      "metadata": {
        "colab": {
          "base_uri": "https://localhost:8080/"
        },
        "id": "jxoU3BDtFmNH",
        "outputId": "b3fd58e6-3533-4de6-f668-7395704c3e45"
      },
      "execution_count": null,
      "outputs": [
        {
          "output_type": "stream",
          "name": "stdout",
          "text": [
            "Na mDpNa \n"
          ]
        }
      ]
    },
    {
      "cell_type": "markdown",
      "source": [
        "### Slicing khi truyền vào step âm"
      ],
      "metadata": {
        "id": "2-d3A0PoE98K"
      }
    },
    {
      "cell_type": "code",
      "source": [
        "my_string = \"Vi Ngay Em Dep Nhat La Ngay Anh Mat Em\"\n",
        "print(my_string[3:20:-1])\n",
        "print(my_string[20:3:-1])\n",
        "print(my_string[-1:3:-1])"
      ],
      "metadata": {
        "colab": {
          "base_uri": "https://localhost:8080/"
        },
        "id": "0G3-3iVOFRVb",
        "outputId": "873034dd-7017-4b6d-f3a5-ea2b67f8be59"
      },
      "execution_count": null,
      "outputs": [
        {
          "output_type": "stream",
          "name": "stdout",
          "text": [
            "\n",
            "L tahN peD mE yag\n",
            "mE taM hnA yagN aL tahN peD mE yag\n"
          ]
        }
      ]
    },
    {
      "cell_type": "markdown",
      "source": [
        "## Xóa và thay đổi một chuỗi"
      ],
      "metadata": {
        "id": "Cv4nnEnTGSDM"
      }
    },
    {
      "cell_type": "markdown",
      "source": [
        "- Chúng ta có thể thay đổi toàn bộ chuỗi bằng cách gán toán bộ chuỗi ban đầu bằng một chuỗi mới\n",
        "- Chúng ta có thể xóa một chuỗi bằng từ khóa **del**"
      ],
      "metadata": {
        "id": "1OpqjGe5GbWk"
      }
    },
    {
      "cell_type": "code",
      "source": [
        "s = 'HIT PYTHON PRIVATE'\n",
        "s = 'HIT PYTHON PRIVATE 2023'\n",
        "del s"
      ],
      "metadata": {
        "id": "lGr5fK1PGRld"
      },
      "execution_count": null,
      "outputs": []
    },
    {
      "cell_type": "markdown",
      "source": [
        "## Phương thức"
      ],
      "metadata": {
        "id": "29rhfqAnG_Zd"
      }
    },
    {
      "cell_type": "markdown",
      "source": [
        "- Một số phương thức xử lý chuỗi:\n",
        "  + lower()\n",
        "  + upper()\n",
        "  + split()\n",
        "  + strip()\n",
        "  + join()\n",
        "  + len()\n",
        "  + find()\n",
        "  + replace()"
      ],
      "metadata": {
        "id": "P-_5XalsHI3E"
      }
    },
    {
      "cell_type": "code",
      "source": [
        "my_string = \"Nang dep nhu anh duong\"\n",
        "print(my_string.find('Cau'))"
      ],
      "metadata": {
        "colab": {
          "base_uri": "https://localhost:8080/"
        },
        "id": "LQXuuDWKHgH1",
        "outputId": "9dcc4810-43b5-4c21-df19-3b75f7352136"
      },
      "execution_count": null,
      "outputs": [
        {
          "output_type": "stream",
          "name": "stdout",
          "text": [
            "Trai Tim To\n"
          ]
        }
      ]
    },
    {
      "cell_type": "markdown",
      "source": [
        "#2. List"
      ],
      "metadata": {
        "id": "df96s9NhbZEI"
      }
    },
    {
      "cell_type": "markdown",
      "source": [
        "##Khái niệm"
      ],
      "metadata": {
        "id": "99KKaIUaIaAl"
      }
    },
    {
      "cell_type": "markdown",
      "source": [
        "- List là một cấu trúc dùng để lưu trữ một dãy các phần tử và phân tách chúng bởi dấu phẩy\n",
        "- List cho phép chúng ta lưu trữ các phần tử với các kiểu dữ liệu khác nhau, kể cả list\n",
        "- List là một kiểu dữ liệu mutable, có thể thay đổi được"
      ],
      "metadata": {
        "id": "41Mh9EjRJmdy"
      }
    },
    {
      "cell_type": "code",
      "source": [
        "my_list = [1,2,3,4,5,6,7,8,9]\n",
        "print(f\"{type(my_list)} : {my_list}\")"
      ],
      "metadata": {
        "id": "a9KD5NL2IZvL"
      },
      "execution_count": null,
      "outputs": []
    },
    {
      "cell_type": "markdown",
      "source": [
        "##Khởi tạo"
      ],
      "metadata": {
        "id": "AqemufixKauw"
      }
    },
    {
      "cell_type": "markdown",
      "source": [
        "- Khởi tạo một list rỗng bằng cặp dấu ngoặc [] hoặc sử dụng constructor list()"
      ],
      "metadata": {
        "id": "qjZyHXjnKsXi"
      }
    },
    {
      "cell_type": "code",
      "source": [
        "your_list = []\n",
        "my_list = list()\n",
        "print(f\"{type(my_list)} : {my_list}\")\n",
        "print(f\"{type(your_list)} : {your_list}\")\n",
        "\"Chung ta co diem chung roi ne, yeu cau !!!\""
      ],
      "metadata": {
        "colab": {
          "base_uri": "https://localhost:8080/"
        },
        "id": "_lChzaADKmE2",
        "outputId": "c7de7b8e-e667-49d2-a84e-b9e02429ff00"
      },
      "execution_count": null,
      "outputs": [
        {
          "output_type": "stream",
          "name": "stdout",
          "text": [
            "<class 'list'> : []\n",
            "<class 'list'> : []\n",
            "Chung ta co diem chung roi ne, yeu cau !!!\n"
          ]
        }
      ]
    },
    {
      "cell_type": "markdown",
      "source": [
        "- list có thể lưu một lúc nhiều kiểu dữ liệu"
      ],
      "metadata": {
        "id": "vC3YvONxLUgz"
      }
    },
    {
      "cell_type": "code",
      "source": [
        "my_love_for_you = [1,2,3, \"To\", \"Yeu\", 1.0, 1.5, [1, \"Cau\"]]\n",
        "print(f\"{type(my_love_for_you)} : {my_love_for_you}\")"
      ],
      "metadata": {
        "colab": {
          "base_uri": "https://localhost:8080/"
        },
        "id": "-7Kp3gAOLUOg",
        "outputId": "d16f1f19-0013-4db8-fd42-73f59294607f"
      },
      "execution_count": null,
      "outputs": [
        {
          "output_type": "stream",
          "name": "stdout",
          "text": [
            "<class 'list'> : [1, 2, 3, 'To', 'Yeu', 1.0, 1.5, [1, 'Cau']]\n"
          ]
        }
      ]
    },
    {
      "cell_type": "markdown",
      "source": [
        "- Sử dụng list comprehension"
      ],
      "metadata": {
        "id": "HaCo6mEfKfG9"
      }
    },
    {
      "cell_type": "markdown",
      "source": [
        "- Cấu trúc của list comprehension: **[EXPRESSION FOR ITEM IN ITERABLE]**"
      ],
      "metadata": {
        "id": "2pNnQFANOuGc"
      }
    },
    {
      "cell_type": "code",
      "source": [
        "list_comprehension = [i for i in range(10)]\n",
        "print(f\"{type(list_comprehension)} : {list_comprehension}\")"
      ],
      "metadata": {
        "id": "tajFEXBNL2RH"
      },
      "execution_count": null,
      "outputs": []
    },
    {
      "cell_type": "markdown",
      "source": [
        "##List comprehension"
      ],
      "metadata": {
        "id": "gXLD4w_MMgST"
      }
    },
    {
      "cell_type": "markdown",
      "source": [
        "###List comprehension với mệnh đề if"
      ],
      "metadata": {
        "id": "dQHJarW_Mxik"
      }
    },
    {
      "cell_type": "code",
      "source": [
        "super_list = [[\"Nay\",\"Cau\",\"Ơi\"], [\"To\",\"Thich\",\"Cau\"],[\"Nhieu\",\"Lam\",\"Roi\"]]\n",
        "our_home = [j for i in super_list for j in i if j == \"Cau\" or j == \"To\"]\n",
        "print(f\"Ngoi nha cua chung ta gio chi co Cau va To : {our_home}\")"
      ],
      "metadata": {
        "colab": {
          "base_uri": "https://localhost:8080/"
        },
        "id": "ohs5SXP2Nfr-",
        "outputId": "c1737e8a-f9f1-4788-ff8f-4fbc0cf058e9"
      },
      "execution_count": null,
      "outputs": [
        {
          "output_type": "stream",
          "name": "stdout",
          "text": [
            "Ngoi nha cua chung ta gio chi co Cau va To : ['Cau', 'To', 'Cau']\n"
          ]
        }
      ]
    },
    {
      "cell_type": "markdown",
      "source": [
        "###List comprehension lồng nhau"
      ],
      "metadata": {
        "id": "-gk07UbgMiCD"
      }
    },
    {
      "cell_type": "code",
      "source": [
        "super_list = [[\"Nay\",\"Cau\",\"Ơi\"], [\"To\",\"Thich\",\"Cau\"],[\"Nhieu\",\"Lam\",\"Roi\"]]\n",
        "my_love = [j for i in super_list for j in i]\n",
        "print(my_love)"
      ],
      "metadata": {
        "colab": {
          "base_uri": "https://localhost:8080/"
        },
        "id": "twhjjsGaNiuj",
        "outputId": "5d480025-676c-46bd-bc12-c88d2dea59d0"
      },
      "execution_count": null,
      "outputs": [
        {
          "output_type": "stream",
          "name": "stdout",
          "text": [
            "['Nay', 'Cau', 'Ơi', 'To', 'Thich', 'Cau', 'Nhieu', 'Lam', 'Roi']\n"
          ]
        }
      ]
    },
    {
      "cell_type": "markdown",
      "source": [
        "## Truy xuất phần tử và slicing"
      ],
      "metadata": {
        "id": "oqHrsCcJP71j"
      }
    },
    {
      "cell_type": "markdown",
      "source": [
        "- Giống với string, các phần tử trong một list sẽ được đánh vị trí từ 0 đến n-1 từ trái qua phải, và -1 đến -n từ phải qua trái\n",
        "- Chúng ta có thể truy xuất phần tử bằng cả index âm và index dương\n",
        "- Vì là kiểu dữ liệu mutable, chúng ta có thể thay đổi được giá trị của các phần tử riêng biệt của list"
      ],
      "metadata": {
        "id": "l07JSPN_QFNa"
      }
    },
    {
      "cell_type": "code",
      "source": [
        "my_list = [2,4,6,8,10,12]\n",
        "print(my_list[5])\n",
        "print(my_list[-3])"
      ],
      "metadata": {
        "id": "t1O8kzUnQ2dj"
      },
      "execution_count": null,
      "outputs": []
    },
    {
      "cell_type": "markdown",
      "source": [
        "- Chúng ta có thể liệt kê một loạt các phần tử  liên tiếp ở trong list bằng phương pháp slicing\n",
        "- Cú pháp: list[start : stop : step]"
      ],
      "metadata": {
        "id": "8vnanRfPRP-u"
      }
    },
    {
      "cell_type": "code",
      "source": [
        "my_list = [\"Goi\", \"Em\", \"La\", \"Oxi\", \"Vi\", \"Em\", \"La\", \"Nguon\", \"Song\", \"Cua\", \"Anh\"]\n",
        "print(my_list[::-1])"
      ],
      "metadata": {
        "colab": {
          "base_uri": "https://localhost:8080/"
        },
        "id": "9UJ_PL8kRqJG",
        "outputId": "35b38159-f859-4b7a-a7cf-db60ac333e69"
      },
      "execution_count": null,
      "outputs": [
        {
          "output_type": "stream",
          "name": "stdout",
          "text": [
            "['Anh', 'Cua', 'Song', 'Nguon', 'La', 'Em', 'Vi', 'Oxi', 'La', 'Em', 'Goi']\n"
          ]
        }
      ]
    },
    {
      "cell_type": "markdown",
      "source": [
        "## Clone và Copy"
      ],
      "metadata": {
        "id": "VDMc3P1JTue8"
      }
    },
    {
      "cell_type": "markdown",
      "source": [
        "- Python sử dụng các tham chiếu đối tượng để truy cập đến các biến\n",
        "- Khi gán, Python sẽ không tạo ra một list mới, mà cả list cũ và list mới sẽ đều trỏ vào cùng một vị trí"
      ],
      "metadata": {
        "id": "zGpS5zTyUJ1v"
      }
    },
    {
      "cell_type": "code",
      "source": [
        "my_list = [\"Goi\", \"Em\", \"La\", \"Oxi\", \"Vi\", \"Em\", \"La\", \"Nguon\", \"Song\", \"Cua\", \"Anh\"]\n",
        "your_list = my_list\n",
        "print(id(my_list))\n",
        "print(id(your_list))\n",
        "print(\"ơ chúng ta ở cùng một căn nhà nè !!! Hạnh phúc gheee\")"
      ],
      "metadata": {
        "id": "5pqTyGEhTyjV"
      },
      "execution_count": null,
      "outputs": []
    },
    {
      "cell_type": "markdown",
      "source": [
        "- Vì vậy chúng ta cần lưu ý hãy copy trước khi gán để tránh sự thay đổi ở list cũ"
      ],
      "metadata": {
        "id": "0je7gnr2U7WY"
      }
    },
    {
      "cell_type": "code",
      "source": [
        "my_list = [\"Goi\", \"Em\", \"La\", \"Oxi\", \"Vi\", \"Em\", \"La\", \"Nguon\", \"Song\", \"Cua\", \"Anh\"]\n",
        "your_list = my_list.copy()\n",
        "print(id(my_list))\n",
        "print(id(your_list))\n",
        "print(\"Chúng ta chia tay rồi !!!\")"
      ],
      "metadata": {
        "colab": {
          "base_uri": "https://localhost:8080/"
        },
        "id": "fyefCIIsVG1h",
        "outputId": "6b4c854d-ab34-491f-8439-08216fdbe03a"
      },
      "execution_count": null,
      "outputs": [
        {
          "output_type": "stream",
          "name": "stdout",
          "text": [
            "134848040025408\n",
            "134848040015552\n",
            "ơ chúng ta ở cùng một căn nhà nè !!! Hạnh phúc gheee\n"
          ]
        }
      ]
    },
    {
      "cell_type": "markdown",
      "source": [
        "## Built-in Method"
      ],
      "metadata": {
        "id": "82uaB_MpVvM8"
      }
    },
    {
      "cell_type": "markdown",
      "source": [
        "- Một số phương thức được xây dựng sẵn cho list\n",
        "  + append(): Thêm một phần tử vào cuối list\n",
        "  + clear(): Xóa tất cả các phần tử trong list\n",
        "  + copy(): copy 1 list\n",
        "  + count(item): Đếm số luợng item trong list\n",
        "  + extend(): Thêm một phần tử hoặc 1 list khác vaò cuối list\n",
        "  + pop(): Xóa một phần tử ở cuối list\n",
        "  + reverse(): Đảo ngược vị trí của các phần tử trong list\n",
        "  + sort(): Sắp xếp list\n",
        "  ...\n",
        "  Còn nhiều nữa nhưng anh lươì quá"
      ],
      "metadata": {
        "id": "r4YyLUtLV2kO"
      }
    },
    {
      "cell_type": "code",
      "source": [
        "my_list = [\"Goi\", \"Em\", \"La\", \"Oxi\", \"Vi\", \"Em\", \"La\", \"Nguon\", \"Song\", \"Cua\", \"Anh\"]\n",
        "print(my_list.pop())"
      ],
      "metadata": {
        "id": "1snpRx2DVypo"
      },
      "execution_count": null,
      "outputs": []
    },
    {
      "cell_type": "markdown",
      "source": [
        "#3. Tuple"
      ],
      "metadata": {
        "id": "XhmSs9xTbeRe"
      }
    },
    {
      "cell_type": "markdown",
      "source": [
        "##Khái Niệm"
      ],
      "metadata": {
        "id": "FWOwWd2aYKJi"
      }
    },
    {
      "cell_type": "markdown",
      "source": [
        "- Tuple gần giống như list, có thể chứa một lúc nhiều kiểu dữ liệu khác nhau, bao gồm cả tuple\n",
        "- Tuple là một kiểu dữ liệu bất biến, và không thể thay đổi được sau khi gán\n",
        "- Nhưng nếu trong tuple đó chứa một kiểu mutable, ví dụ như list, thì chúng ta lại có thể thay đổi được giá trị của phần tử đó"
      ],
      "metadata": {
        "id": "6Nl4Qc-RZD_C"
      }
    },
    {
      "cell_type": "code",
      "source": [
        "my_tuple = (1,2,3,(4,5,6),7)\n",
        "print(f\"{type(my_tuple)} : {my_tuple}\")"
      ],
      "metadata": {
        "colab": {
          "base_uri": "https://localhost:8080/"
        },
        "id": "Ev_D8K7AX0p7",
        "outputId": "54ab3ffc-b651-4713-e26a-e18e7ecd32e2"
      },
      "execution_count": null,
      "outputs": [
        {
          "output_type": "stream",
          "name": "stdout",
          "text": [
            "<class 'tuple'> : (1, 2, 3, (4, 5, 6), 7)\n"
          ]
        }
      ]
    },
    {
      "cell_type": "markdown",
      "source": [
        "## Khởi tạo tuple"
      ],
      "metadata": {
        "id": "ST6NLvzzcD1a"
      }
    },
    {
      "cell_type": "markdown",
      "source": [
        "- Sử dụng dấu () khởi tạo tuple rỗng"
      ],
      "metadata": {
        "id": "FxzyfcprclgM"
      }
    },
    {
      "cell_type": "code",
      "source": [
        "your_tuple = ()\n",
        "print(f\"{type(your_tuple)} : {your_tuple}\")"
      ],
      "metadata": {
        "id": "xfcgyxgPco1S"
      },
      "execution_count": null,
      "outputs": []
    },
    {
      "cell_type": "markdown",
      "source": [
        "- Chúng ta có thể khởi tạo một tuple mà không cần sử dụng đến dấu ngoặc ()"
      ],
      "metadata": {
        "id": "pcWdoH0wc6oj"
      }
    },
    {
      "cell_type": "code",
      "source": [
        "my_tuple = 1,2,3\n",
        "print(f\"{type(my_tuple)} : {my_tuple}\")"
      ],
      "metadata": {
        "id": "7x5_OSWkdBJR"
      },
      "execution_count": null,
      "outputs": []
    },
    {
      "cell_type": "markdown",
      "source": [
        "- Khởi tạo tuple bằng tuple comprehension và constructor tuple"
      ],
      "metadata": {
        "id": "G1610sjSdKJj"
      }
    },
    {
      "cell_type": "code",
      "source": [
        "our_tuple = (i for i in range(5))\n",
        "print(f\"{type(our_tuple)} : {our_tuple}\")\n",
        "our_tuple = tuple(our_tuple)\n",
        "print(f\"{type(our_tuple)} : {our_tuple}\")"
      ],
      "metadata": {
        "colab": {
          "base_uri": "https://localhost:8080/"
        },
        "id": "KlTX5DeDdR_1",
        "outputId": "07890919-a8ba-4c75-a4c7-da29747115d9"
      },
      "execution_count": null,
      "outputs": [
        {
          "output_type": "stream",
          "name": "stdout",
          "text": [
            "<class 'generator'> : <generator object <genexpr> at 0x7aa4a39cc970>\n",
            "<class 'tuple'> : (0, 1, 2, 3, 4)\n"
          ]
        }
      ]
    },
    {
      "cell_type": "markdown",
      "source": [
        "## Packing và Unpacking"
      ],
      "metadata": {
        "id": "e4-5cFFZdp70"
      }
    },
    {
      "cell_type": "markdown",
      "source": [
        "- Đóng gói tuple"
      ],
      "metadata": {
        "id": "_N3Mpb3AeKsV"
      }
    },
    {
      "cell_type": "code",
      "source": [
        "our_home = (\"You\", \"Me\", \"Love\")\n",
        "print(f\"{type(our_home)} : {our_home}\")\n",
        "print(\"Em oi, Lau Dai Tinh Ai heheh !!!\")"
      ],
      "metadata": {
        "colab": {
          "base_uri": "https://localhost:8080/"
        },
        "id": "rhoilIlKduYe",
        "outputId": "38ea3fb7-12e8-4d01-bf33-edca7aabaf6a"
      },
      "execution_count": null,
      "outputs": [
        {
          "output_type": "stream",
          "name": "stdout",
          "text": [
            "<class 'tuple'> : ('You', 'Me', 'Love')\n",
            "Em oi, Lau Dai Tinh Ai heheh !!!\n"
          ]
        }
      ]
    },
    {
      "cell_type": "markdown",
      "source": [
        "- Mở gói tuple"
      ],
      "metadata": {
        "id": "WGXr_EPGeNwq"
      }
    },
    {
      "cell_type": "code",
      "source": [
        "you, me, love =  our_home\n",
        "print(f\"{type(you)} : {you}\")\n",
        "print(f\"{type(me)} : {me}\")\n",
        "print(f\"{type(love)} : {love}\")"
      ],
      "metadata": {
        "colab": {
          "base_uri": "https://localhost:8080/"
        },
        "id": "MO2nV3zjePrd",
        "outputId": "5d2c932e-3a51-4053-cfde-108f2d8fbf49"
      },
      "execution_count": null,
      "outputs": [
        {
          "output_type": "stream",
          "name": "stdout",
          "text": [
            "<class 'str'> : You\n",
            "<class 'str'> : Me\n",
            "<class 'str'> : Love\n"
          ]
        }
      ]
    },
    {
      "cell_type": "markdown",
      "source": [
        "##Truy Xuất Phần Tử và Slicing"
      ],
      "metadata": {
        "id": "jfHc_5Mxemao"
      }
    },
    {
      "cell_type": "markdown",
      "source": [
        "- Tương tự như list và string, chúng ta có thể truyền vào index dương hoặc âm để truy xuất phần tử\n",
        "- Điều đặc biệt cần chú ý đó là đối với phần từ mutable trong list thì có thể thay đổi được"
      ],
      "metadata": {
        "id": "Q7hXl7HWezlA"
      }
    },
    {
      "cell_type": "code",
      "source": [
        "trai_tim_to =(1,2,3,[\"Anh Mat Cua Cau\", \"Nu Cuoi Cua Cau\", \"Hinh Bong Cua Cau\"], 5)\n",
        "trai_tim_to[4][0] = \"Giong Noi Cua Cau\"\n",
        "print(trai_tim_to)"
      ],
      "metadata": {
        "id": "i0YIAOC5fO7i"
      },
      "execution_count": null,
      "outputs": []
    },
    {
      "cell_type": "markdown",
      "source": [
        "- Slicing tương tự như list và string nhé =))))))"
      ],
      "metadata": {
        "id": "REHl68atft5s"
      }
    },
    {
      "cell_type": "markdown",
      "source": [
        "## Built-in Method"
      ],
      "metadata": {
        "id": "1IERJCtQgDai"
      }
    },
    {
      "cell_type": "markdown",
      "source": [
        "- Một số phương thức built-in được sử dụng đối với tuple:\n",
        "  + count(item): trả về số luợng phần tử của tuple\n",
        "  + index(item): trả về vị trí đầu tiên xuất hiện item"
      ],
      "metadata": {
        "id": "JxNEUO6ygGLD"
      }
    },
    {
      "cell_type": "code",
      "source": [
        "trai_tim_to =(\"Anh Mat Cua Cau\", \"Nu Cuoi Cua Cau\", \"Hinh Bong Cua Cau\", \"Giong Noi Cua Cau\")\n",
        "trai_tim_to.count(\"Anh Mat Cua Cau\")"
      ],
      "metadata": {
        "colab": {
          "base_uri": "https://localhost:8080/"
        },
        "id": "B2Ixq_5KgFnK",
        "outputId": "5e091beb-f6b0-4360-f2cf-45a371e6ff14"
      },
      "execution_count": null,
      "outputs": [
        {
          "output_type": "execute_result",
          "data": {
            "text/plain": [
              "1"
            ]
          },
          "metadata": {},
          "execution_count": 35
        }
      ]
    },
    {
      "cell_type": "markdown",
      "source": [
        "## Tuple và List"
      ],
      "metadata": {
        "id": "dYaimD6Yg4C2"
      }
    },
    {
      "cell_type": "markdown",
      "source": [
        "- Tốc độ truy xuất của tuple nhanh hơn list\n",
        "- Lưu trữ tuple sẽ mất ít bộ nhớ hơn so với list\n",
        "- Tốc độ thay đổi, thêm phần tử của tuple chậm hơn list\n",
        "- Tuple có thể dùng là key cho dictionary\n",
        "- Tuple có thể được sử dụng để lưu trữ các dữ liệu quan trọng, không thể thay đổi"
      ],
      "metadata": {
        "id": "eoZbcLTnhSF_"
      }
    },
    {
      "cell_type": "markdown",
      "source": [
        "#4. Set"
      ],
      "metadata": {
        "id": "EuOmhUedbgKc"
      }
    },
    {
      "cell_type": "markdown",
      "source": [
        "## Khái niệm"
      ],
      "metadata": {
        "id": "SYjIoyaziHkm"
      }
    },
    {
      "cell_type": "markdown",
      "source": [
        "- Set là một tập hợp không có chỉ số  nên không thể truy xuất bằng index, được giới hạn bởi cặp dấu ngoặc {}\n",
        "- Các phần tử trong set có thể khác kiểu dữ liệu\n",
        "- Set chỉ có thể chứa các hashable object nhưng chính nó không phải là một hashable object. Do đó, bạn không thể chứa một set trong một set.\n",
        "- Mỗi phần tử của set là duy nhất, bất biến\n",
        "- Chúng ta có thể thêm phần tử hoặc xóa phần tử"
      ],
      "metadata": {
        "id": "_S6-e7Q1iJ7n"
      }
    },
    {
      "cell_type": "code",
      "source": [
        "my_set = {\"Cau\", \"To\", \"Anh Ta\"}\n",
        "print(f\"{type(my_set)} : {my_set}\")"
      ],
      "metadata": {
        "colab": {
          "base_uri": "https://localhost:8080/"
        },
        "id": "TRBYZJ0TiJcX",
        "outputId": "2371fd43-9d8d-4240-8f01-574688a5fd4b"
      },
      "execution_count": null,
      "outputs": [
        {
          "output_type": "stream",
          "name": "stdout",
          "text": [
            "<class 'set'> : {'Cau', 'To', 'Anh Ta'}\n"
          ]
        }
      ]
    },
    {
      "cell_type": "markdown",
      "source": [
        "##Khởi tạo"
      ],
      "metadata": {
        "id": "ammyvgPhje6y"
      }
    },
    {
      "cell_type": "markdown",
      "source": [
        "- Chúng ta có thể khởi tạo một set rỗng bằng constructor set()\n",
        "- Hoặc có thể tạo một tuple mới bằng cách truyền vào đó một iterable"
      ],
      "metadata": {
        "id": "OlOCkidbjkzT"
      }
    },
    {
      "cell_type": "code",
      "source": [
        "my_set = set()\n",
        "their_set = set(\"aaaaaaaaaaaaaaaaaaaaaBBBBBBBBBBBBBBBBBBBGGGGGGGGGGGGGGGCCCCCCCCCCC\")\n",
        "print(f\"{type(my_set)} : {my_set}\")\n",
        "print(f\"{type(their_set)} : {their_set}\")"
      ],
      "metadata": {
        "colab": {
          "base_uri": "https://localhost:8080/"
        },
        "id": "1CZ1fE8Nh1UA",
        "outputId": "c197d7ea-1baa-4538-f29c-99737c3633a4"
      },
      "execution_count": null,
      "outputs": [
        {
          "output_type": "stream",
          "name": "stdout",
          "text": [
            "<class 'set'> : set()\n",
            "<class 'set'> : {'C', 'B', 'G', 'a'}\n"
          ]
        }
      ]
    },
    {
      "cell_type": "markdown",
      "source": [
        "- Sử dụng một cặp dấu ngoặc {} và truyền vào bên trong các giá trị của các phần tử của set"
      ],
      "metadata": {
        "id": "pBjMMrO5j74C"
      }
    },
    {
      "cell_type": "code",
      "source": [
        "your_set = {1,2,3,4,5,6,7}\n",
        "print(f\"{type(your_set)} : {your_set}\")"
      ],
      "metadata": {
        "colab": {
          "base_uri": "https://localhost:8080/"
        },
        "id": "jEaiRvo5kCio",
        "outputId": "3f854241-62af-4c27-c43a-18985d4ab1f1"
      },
      "execution_count": null,
      "outputs": [
        {
          "output_type": "stream",
          "name": "stdout",
          "text": [
            "<class 'set'> : {1, 2, 3, 4, 5, 6, 7}\n"
          ]
        }
      ]
    },
    {
      "cell_type": "markdown",
      "source": [
        "- Set Comprehension"
      ],
      "metadata": {
        "id": "e7Ecfi7AkOKO"
      }
    },
    {
      "cell_type": "code",
      "source": [
        "our_set = {i for i in range(10)}\n",
        "print(f\"{type(our_set)} : {our_set}\")"
      ],
      "metadata": {
        "colab": {
          "base_uri": "https://localhost:8080/"
        },
        "id": "_qyszeG0kN8x",
        "outputId": "35248e87-3b60-47c8-8d34-e1ed1582cf83"
      },
      "execution_count": null,
      "outputs": [
        {
          "output_type": "stream",
          "name": "stdout",
          "text": [
            "<class 'set'> : {0, 1, 2, 3, 4, 5, 6, 7, 8, 9}\n"
          ]
        }
      ]
    },
    {
      "cell_type": "markdown",
      "source": [
        "## Thêm xóa phần tử"
      ],
      "metadata": {
        "id": "YDpb_tOSwqU5"
      }
    },
    {
      "cell_type": "markdown",
      "source": [
        "- Thêm item vào set: set.add(item)"
      ],
      "metadata": {
        "id": "NExVcM-Fws07"
      }
    },
    {
      "cell_type": "code",
      "source": [
        "my_set = {\"To\", \"Cau\"}\n",
        "my_set.add(\"Gia Vi Tinh Yeu\")\n",
        "print(my_set)"
      ],
      "metadata": {
        "colab": {
          "base_uri": "https://localhost:8080/"
        },
        "id": "VZHCTgeYwt1J",
        "outputId": "8fe2b625-6878-4097-fcb7-45da6edbb249"
      },
      "execution_count": null,
      "outputs": [
        {
          "output_type": "stream",
          "name": "stdout",
          "text": [
            "{'Cau', 'Gia Vi Tinh Yeu', 'To'}\n"
          ]
        }
      ]
    },
    {
      "cell_type": "markdown",
      "source": [
        "- Thêm nhiều item vào set: set.update(*item)"
      ],
      "metadata": {
        "id": "_XqLBhVzwzXt"
      }
    },
    {
      "cell_type": "code",
      "source": [
        "my_set = {\"To\", \"Cau\"}\n",
        "my_set.update([\"Gia Vi Tinh Yeu\", \"Huong Thom Su Nghiep\"])\n",
        "print(my_set)"
      ],
      "metadata": {
        "colab": {
          "base_uri": "https://localhost:8080/"
        },
        "id": "mX6Uy2grwzq-",
        "outputId": "d9c534a7-40c5-4f03-85b3-f71d69b29c0f"
      },
      "execution_count": null,
      "outputs": [
        {
          "output_type": "stream",
          "name": "stdout",
          "text": [
            "{'Cau', 'Gia Vi Tinh Yeu', 'To', 'Huong Thom Su Nghiep'}\n"
          ]
        }
      ]
    },
    {
      "cell_type": "markdown",
      "source": [
        "- Xóa một item khỏi set:\n",
        "  + set.remove(item)\n",
        "  + set.discard(item)"
      ],
      "metadata": {
        "id": "zxeXsjGjxi2u"
      }
    },
    {
      "cell_type": "code",
      "source": [
        "our_home = {\"To\", \"Cau\"}\n",
        "our_home.remove(\"To\")\n",
        "print(f\"Chung ta roi xa nhau mot thoi gian nhe : {our_home}\")"
      ],
      "metadata": {
        "colab": {
          "base_uri": "https://localhost:8080/"
        },
        "id": "SCnGGRneyJE_",
        "outputId": "3a6091b7-3cee-4885-c00d-459d9a5b20f3"
      },
      "execution_count": null,
      "outputs": [
        {
          "output_type": "stream",
          "name": "stdout",
          "text": [
            "Chung ta roi xa nhau mot thoi gian nhe : {'Cau'}\n"
          ]
        }
      ]
    },
    {
      "cell_type": "code",
      "source": [
        "our_home = {\"To\", \"Cau\", \"Anh Ta\"}\n",
        "our_home.remove(\"Anh Ta\")\n",
        "print(f\"Ngoi nha cua chung ta bay gio : {our_home}\")"
      ],
      "metadata": {
        "id": "G10moxXly7W-"
      },
      "execution_count": null,
      "outputs": []
    },
    {
      "cell_type": "markdown",
      "source": [
        "- set.pop(): Xóa 1 item bất kỳ, và trả về giá trị của item đó"
      ],
      "metadata": {
        "id": "sXPKK_Qgy5mm"
      }
    },
    {
      "cell_type": "code",
      "source": [
        "our_home = {\"To\", \"Cau\", \"Anh Ta\"}\n",
        "print(our_home.pop())\n",
        "print(f\"Ngoi nha cua chung ta bay gio chi con: {our_home}\")"
      ],
      "metadata": {
        "colab": {
          "base_uri": "https://localhost:8080/"
        },
        "id": "2o1hGD3G0VNQ",
        "outputId": "6df7f3db-a698-4c53-990e-62e29fc03c61"
      },
      "execution_count": null,
      "outputs": [
        {
          "output_type": "stream",
          "name": "stdout",
          "text": [
            "Cau\n",
            "Ngoi nha cua chung ta bay gio chi con: {'To', 'Anh Ta'}\n"
          ]
        }
      ]
    },
    {
      "cell_type": "markdown",
      "source": [
        "- set.clear(): Xóa toàn bộ phần tử của set"
      ],
      "metadata": {
        "id": "IvmJalWO0TUf"
      }
    },
    {
      "cell_type": "code",
      "source": [
        "our_home = {\"To\", \"Cau\", \"Anh Ta\"}\n",
        "our_home.clear()\n",
        "print(f\"Ngoi nha cua chung ta bay gio chi con: {our_home}\")"
      ],
      "metadata": {
        "colab": {
          "base_uri": "https://localhost:8080/"
        },
        "id": "XdOopRRu1z8D",
        "outputId": "7c1423d1-3988-4ea7-9d9e-2a294f1a9438"
      },
      "execution_count": null,
      "outputs": [
        {
          "output_type": "stream",
          "name": "stdout",
          "text": [
            "Ngoi nha cua chung ta bay gio chi con: set()\n"
          ]
        }
      ]
    },
    {
      "cell_type": "markdown",
      "source": [
        "## Toán tử và các thao tác trên set"
      ],
      "metadata": {
        "id": "O2pxklTxlUdf"
      }
    },
    {
      "cell_type": "markdown",
      "source": [
        "- Phép hợp: Lấy tập dữ liệu của cả hai tập hợp\n",
        "\n",
        "\n"
      ],
      "metadata": {
        "id": "UBM1ovUzvee4"
      }
    },
    {
      "cell_type": "code",
      "source": [
        "a = {'blue', 'green', 'red'}\n",
        "b = {'yellow', 'orange', 'red'}\n",
        "print(a | b)\n",
        "print(a.union(b))"
      ],
      "metadata": {
        "colab": {
          "base_uri": "https://localhost:8080/"
        },
        "id": "xqy0XhhNvgEW",
        "outputId": "d5c2e22d-bfb3-4a11-bb66-8cf27e01d861"
      },
      "execution_count": null,
      "outputs": [
        {
          "output_type": "stream",
          "name": "stdout",
          "text": [
            "{'red', 'green', 'yellow', 'blue', 'orange'}\n",
            "{'red', 'green', 'yellow', 'blue', 'orange'}\n"
          ]
        }
      ]
    },
    {
      "cell_type": "markdown",
      "source": [
        "- Phép giao: Lấy tập dữ liệu trùng nhau"
      ],
      "metadata": {
        "id": "3-cH6SVWvnV1"
      }
    },
    {
      "cell_type": "code",
      "source": [
        "a = {'blue', 'green', 'red'}\n",
        "b = {'yellow', 'orange', 'red'}\n",
        "print(a & b)\n",
        "print(a.intersection(b))"
      ],
      "metadata": {
        "colab": {
          "base_uri": "https://localhost:8080/"
        },
        "id": "u0QmRyKnlWhT",
        "outputId": "632151bf-7c6a-4091-b97b-20f5372cd9d6"
      },
      "execution_count": null,
      "outputs": [
        {
          "output_type": "stream",
          "name": "stdout",
          "text": [
            "{'red'}\n",
            "{'red'}\n"
          ]
        }
      ]
    },
    {
      "cell_type": "markdown",
      "source": [
        "- Phép hiệu: Lấy tập dữ liệu chỉ xuất hiện trong tập A mà không xuất hiện trong tập B"
      ],
      "metadata": {
        "id": "7jgjkltAv8Am"
      }
    },
    {
      "cell_type": "code",
      "source": [
        "a = {'blue', 'green', 'red'}\n",
        "b = {'yellow', 'orange', 'red'}\n",
        "print(a - b)\n",
        "print(a.difference(b))"
      ],
      "metadata": {
        "colab": {
          "base_uri": "https://localhost:8080/"
        },
        "id": "7UBPgqpBwXal",
        "outputId": "51281686-f525-427a-8b50-7abb8fff2f58"
      },
      "execution_count": null,
      "outputs": [
        {
          "output_type": "stream",
          "name": "stdout",
          "text": [
            "{'green', 'blue'}\n",
            "{'green', 'blue'}\n"
          ]
        }
      ]
    },
    {
      "cell_type": "markdown",
      "source": [
        "- Phép khác biệt đối xứng: Lấy tập dữ liệu không bị trùng của cả hai (Lấy phép hợp trừ đi phép giao)"
      ],
      "metadata": {
        "id": "A95d8vW3wXyj"
      }
    },
    {
      "cell_type": "code",
      "source": [
        "a = {'blue', 'green', 'red'}\n",
        "b = {'yellow', 'orange', 'red'}\n",
        "print(a ^ b)\n",
        "print(a.symmetric_difference(b))"
      ],
      "metadata": {
        "colab": {
          "base_uri": "https://localhost:8080/"
        },
        "id": "vqahhP1WwkeJ",
        "outputId": "0f07f279-c978-4c2c-e98b-f98e258a1435"
      },
      "execution_count": null,
      "outputs": [
        {
          "output_type": "stream",
          "name": "stdout",
          "text": [
            "{'green', 'yellow', 'blue', 'orange'}\n",
            "{'green', 'yellow', 'blue', 'orange'}\n"
          ]
        }
      ]
    },
    {
      "cell_type": "markdown",
      "source": [
        "#5. Dictionary"
      ],
      "metadata": {
        "id": "A3lpYYW1bieW"
      }
    },
    {
      "cell_type": "markdown",
      "source": [
        "##Khái niệm"
      ],
      "metadata": {
        "id": "BG-Bhd0F2Xnd"
      }
    },
    {
      "cell_type": "markdown",
      "source": [
        "- Dictionary là một kiểu dữ liệu lưu trữ các giá trị key và value\n",
        "  + Key: Phải là duy nhất, có thể là bất kỳ kiểu immutable nào\n",
        "  + Value: Có thể là bất kỳ giá trị nào"
      ],
      "metadata": {
        "id": "AdX2Nttq2eNR"
      }
    },
    {
      "cell_type": "code",
      "source": [
        "my_set = { \"Wife\": \"Cau\", \"Husband\" : \"To\", \"some_random_person\" : \"Anh Ta\"}\n",
        "print(f\"{type(my_set)} : {my_set}\")"
      ],
      "metadata": {
        "colab": {
          "base_uri": "https://localhost:8080/"
        },
        "id": "UhS-xBWD2dDT",
        "outputId": "b7825511-83f8-4cf5-843c-9e5a64c69aa0"
      },
      "execution_count": null,
      "outputs": [
        {
          "output_type": "stream",
          "name": "stdout",
          "text": [
            "<class 'dict'> : {'Wife': 'Cau', 'Husband': 'To', 'some_random_person': 'Anh Ta'}\n"
          ]
        }
      ]
    },
    {
      "cell_type": "markdown",
      "source": [
        "## Khởi tạo"
      ],
      "metadata": {
        "id": "_2_Opxs46MHX"
      }
    },
    {
      "cell_type": "markdown",
      "source": [
        "- Khởi tạo bằng {}"
      ],
      "metadata": {
        "id": "QY1MVbqM7NeX"
      }
    },
    {
      "cell_type": "code",
      "source": [
        "my_set = {}\n",
        "print(f\"{type(my_set)} : {my_set}\")"
      ],
      "metadata": {
        "colab": {
          "base_uri": "https://localhost:8080/"
        },
        "id": "Xvt9u--b7lXK",
        "outputId": "31a03dff-323a-42b4-9c8c-6b1279e5fac6"
      },
      "execution_count": null,
      "outputs": [
        {
          "output_type": "stream",
          "name": "stdout",
          "text": [
            "<class 'dict'> : {}\n"
          ]
        }
      ]
    },
    {
      "cell_type": "markdown",
      "source": [
        "- Khởi tạo constructor dict()"
      ],
      "metadata": {
        "id": "mE0zOJjN6PG9"
      }
    },
    {
      "cell_type": "code",
      "source": [
        "my_set = dict()\n",
        "print(f\"{type(my_set)} : {my_set}\")"
      ],
      "metadata": {
        "colab": {
          "base_uri": "https://localhost:8080/"
        },
        "id": "HAS-e8wH7p9E",
        "outputId": "c38d8b63-b9d4-4b7f-9a4c-17bc0516b272"
      },
      "execution_count": null,
      "outputs": [
        {
          "output_type": "stream",
          "name": "stdout",
          "text": [
            "<class 'dict'> : {}\n"
          ]
        }
      ]
    },
    {
      "cell_type": "markdown",
      "source": [
        "- Khởi tạo bằng iterable và dict()"
      ],
      "metadata": {
        "id": "H-V4J0M07iuB"
      }
    },
    {
      "cell_type": "code",
      "source": [
        "my_set = dict([[1, \"Tien\"], [2, \"Dong\"]])\n",
        "print(f\"{type(my_set)} : {my_set}\")"
      ],
      "metadata": {
        "colab": {
          "base_uri": "https://localhost:8080/"
        },
        "id": "LaU9axSF6Pnd",
        "outputId": "f72037aa-7dfa-478d-ad40-56caaaf2eae5"
      },
      "execution_count": null,
      "outputs": [
        {
          "output_type": "stream",
          "name": "stdout",
          "text": [
            "<class 'dict'> : {1: 'Tien', 2: 'Dong'}\n"
          ]
        }
      ]
    },
    {
      "cell_type": "markdown",
      "source": [
        "## Xóa phần tử trong dict"
      ],
      "metadata": {
        "id": "ypcusbIg8alx"
      }
    },
    {
      "cell_type": "markdown",
      "source": [
        "- Một số phương thức cần chú ý:\n",
        "  + pop(): Xóa theo key\n",
        "  + popitem(): Xóa theo item ngẫu nhiên với phiên bản trước 3.7, xóa item cuối cùng với version sau 3.7\n",
        "  + clear(): Xóa hết các phần tử\n",
        "  + del(): Xóa theo cặp key : value"
      ],
      "metadata": {
        "id": "KgRj2wtm8qL6"
      }
    },
    {
      "cell_type": "code",
      "source": [
        "my_set = { \"Wife\": \"Cau\", \"Husband\" : \"To\", \"some_random_person\" : \"Anh Ta\"}\n",
        "print(my_set.pop(\"some_random_person\"))\n",
        "print(my_set)"
      ],
      "metadata": {
        "colab": {
          "base_uri": "https://localhost:8080/"
        },
        "id": "P9Ztg2BN8iEP",
        "outputId": "1aefdf3c-698f-4ec1-e7c0-b2e3b5db887a"
      },
      "execution_count": null,
      "outputs": [
        {
          "output_type": "stream",
          "name": "stdout",
          "text": [
            "Anh Ta\n",
            "{'Wife': 'Cau', 'Husband': 'To'}\n"
          ]
        }
      ]
    },
    {
      "cell_type": "code",
      "source": [
        "my_set = { \"Wife\": \"Cau\", \"Husband\" : \"To\", \"some_random_person\" : \"Anh Ta\"}\n",
        "my_set.popitem()\n",
        "print(my_set)"
      ],
      "metadata": {
        "colab": {
          "base_uri": "https://localhost:8080/"
        },
        "id": "NaNaDPgU9cYD",
        "outputId": "9138988b-ea28-470e-b515-b95f1e597244"
      },
      "execution_count": null,
      "outputs": [
        {
          "output_type": "stream",
          "name": "stdout",
          "text": [
            "{'Wife': 'Cau', 'Husband': 'To'}\n"
          ]
        }
      ]
    },
    {
      "cell_type": "code",
      "source": [
        "my_set = { \"Wife\": \"Cau\", \"Husband\" : \"To\", \"some_random_person\" : \"Anh Ta\"}\n",
        "my_set.clear()\n",
        "print(my_set)"
      ],
      "metadata": {
        "colab": {
          "base_uri": "https://localhost:8080/"
        },
        "id": "vW103YC29cp6",
        "outputId": "eb7bb73e-f212-4400-bf79-a00c39d994c8"
      },
      "execution_count": null,
      "outputs": [
        {
          "output_type": "stream",
          "name": "stdout",
          "text": [
            "{}\n"
          ]
        }
      ]
    },
    {
      "cell_type": "code",
      "source": [
        "my_set = { \"Wife\": \"Cau\", \"Husband\" : \"To\", \"some_random_person\" : \"Anh Ta\"}\n",
        "del my_set[\"some_random_person\"]\n",
        "print(my_set)"
      ],
      "metadata": {
        "colab": {
          "base_uri": "https://localhost:8080/"
        },
        "id": "vTCk5uQT9c5m",
        "outputId": "9b8154b3-ad3a-468d-b991-879a11d3b82b"
      },
      "execution_count": null,
      "outputs": [
        {
          "output_type": "stream",
          "name": "stdout",
          "text": [
            "{'Wife': 'Cau', 'Husband': 'To'}\n"
          ]
        }
      ]
    }
  ]
}