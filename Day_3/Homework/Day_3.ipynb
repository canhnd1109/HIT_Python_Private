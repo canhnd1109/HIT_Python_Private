{
  "nbformat": 4,
  "nbformat_minor": 0,
  "metadata": {
    "colab": {
      "provenance": []
    },
    "kernelspec": {
      "name": "python3",
      "display_name": "Python 3"
    },
    "language_info": {
      "name": "python"
    }
  },
  "cells": [
    {
      "cell_type": "code",
      "execution_count": null,
      "metadata": {
        "id": "ytGIZQ2Uwnl5"
      },
      "outputs": [],
      "source": []
    },
    {
      "cell_type": "markdown",
      "source": [
        "#Bai_1\n"
      ],
      "metadata": {
        "id": "IU09LBolwt7d"
      }
    },
    {
      "cell_type": "code",
      "source": [
        "#Su dung ham map() va float de ep kieu du lieu sang so thuc\n",
        "x1, y1, x2, y2, x3, y3 = map(float, input().split())\n",
        "\n",
        "#Dung cau lenh re nhanh de kiem tra dieu kien\n",
        "if x1+1==y1 and y1+1==x2 and x2+1==y2 and y2+1==x3 and x3+1==y3:\n",
        "   #Neu dieu kien dung thi xuat thong bao\n",
        "   print(\"{}, {}, {},{}, {}, {},khong la toa do cua mot tam giac\".format(x1, y1, x2, y2, x3, y3))\n",
        "else:\n",
        "   #Neu dieu kien sai thi xuat thong bao\n",
        "   print(\"{}, {}, {},{}, {}, {}, la toa do cua mot tam giac\".format(x1, y1, x2, y2, x3, y3))\n"
      ],
      "metadata": {
        "colab": {
          "base_uri": "https://localhost:8080/"
        },
        "id": "0qb3v3VEwylK",
        "outputId": "d06435ae-76ec-4b20-b149-8f5f03b392bf"
      },
      "execution_count": 1,
      "outputs": [
        {
          "output_type": "stream",
          "name": "stdout",
          "text": [
            "1 2 3 4 1 4\n",
            "1.0, 2.0, 3.0,4.0, 1.0, 4.0, la toa do cua mot tam giac\n"
          ]
        }
      ]
    },
    {
      "cell_type": "markdown",
      "source": [
        "#Bai_2"
      ],
      "metadata": {
        "id": "EfH15CuDxD2t"
      }
    },
    {
      "cell_type": "code",
      "source": [
        "n = int(input(\"Nhập số nguyên dương n (2 <= n <=100): \"))\n",
        "m = int(input(\"Nhập số nguyên dương m (m >= 3): \"))\n",
        "\n",
        "# Kiểm tra giá trị của n và m\n",
        "if n < 2 or n > 100 or m < 3:\n",
        "    print(\"Gia tri khong hop le.\")\n",
        "    exit()\n",
        "\n",
        "for i in range(n):\n",
        "    # Nhập n số nguyên dương có từ 6 chữ số trở lên\n",
        "    s = input(\"nhập vào một số nguyên dương có từ 6 chữ số trở nên: \");\n",
        "     # Đảo chiều m số cuối cùng của từng số nguyên và in ra kết quả\n",
        "    print(s[:-m] + s[:m - 1:-1])"
      ],
      "metadata": {
        "colab": {
          "base_uri": "https://localhost:8080/"
        },
        "id": "AXARKRraxFb-",
        "outputId": "4f6f3f29-9a85-4ddb-a5ca-64bd97c371d1"
      },
      "execution_count": 4,
      "outputs": [
        {
          "output_type": "stream",
          "name": "stdout",
          "text": [
            "Nhập số nguyên dương n (2 <= n <=100): 2\n",
            "Nhập số nguyên dương m (m >= 3): 3\n",
            "nhập vào một số nguyên dương có từ 6 chữ số trở nên: 123456\n",
            "123654\n",
            "nhập vào một số nguyên dương có từ 6 chữ số trở nên: 456789\n",
            "456987\n"
          ]
        }
      ]
    },
    {
      "cell_type": "markdown",
      "source": [
        "#Bai_3\n"
      ],
      "metadata": {
        "id": "S3XOOoxtxGc0"
      }
    },
    {
      "cell_type": "code",
      "source": [
        "k = int(input(\"Nhập vào một số học sinh k: \"))\n",
        "\n",
        "for i in range(1, k+1):\n",
        "    name = input(\"Nhập Tên: \")\n",
        "    tx1 = int(input(\"Nhập điêmt thường xuyên 1: \"))\n",
        "    tx2 = int(input(\"Nhập điêmt thường xuyên 2: \"))\n",
        "    sum = tx1 + tx2\n",
        "    if (sum >= 190):\n",
        "       result =  \"Xuất sắc\"\n",
        "       print(name, sum, result)\n",
        "    elif( 150<=sum<190):\n",
        "       result = \"Giỏi\"\n",
        "       print(name, sum, result)\n",
        "    elif( 100<= sum <150):\n",
        "      result =  \"Khá\"\n",
        "      print(name, sum, result)\n",
        "    else:\n",
        "       result = \"Yếu\"\n",
        "       print(name, sum, result)"
      ],
      "metadata": {
        "colab": {
          "base_uri": "https://localhost:8080/"
        },
        "id": "Leyg-RE-xIP0",
        "outputId": "c53529c1-7217-4501-f59c-321736282a6b"
      },
      "execution_count": 3,
      "outputs": [
        {
          "output_type": "stream",
          "name": "stdout",
          "text": [
            "Nhập vào một số học sinh k: 2\n",
            "Nhập Tên: Tiến\n",
            "Nhập điêmt thường xuyên 1: 50\n",
            "Nhập điêmt thường xuyên 2: 60\n",
            "Tiến 110 Khá\n",
            "Nhập Tên: Đông\n",
            "Nhập điêmt thường xuyên 1: 70\n",
            "Nhập điêmt thường xuyên 2: 90\n",
            "Đông 160 Giỏi\n"
          ]
        }
      ]
    },
    {
      "cell_type": "markdown",
      "source": [
        "#Bai_4"
      ],
      "metadata": {
        "id": "BmKDLUuEz0nl"
      }
    },
    {
      "cell_type": "code",
      "source": [
        "x = int(input(\"Nhập giá trị của x (số xu): \"))\n",
        "if x>=1: print(\"No\")\n",
        "else: print(\"Yes\")\n",
        "\n"
      ],
      "metadata": {
        "colab": {
          "base_uri": "https://localhost:8080/"
        },
        "id": "gZkoEk5yz2sZ",
        "outputId": "166ad07a-9e3c-47d2-c915-0a3ce4867bde"
      },
      "execution_count": 5,
      "outputs": [
        {
          "output_type": "stream",
          "name": "stdout",
          "text": [
            "Nhập giá trị của x (số xu): 19\n",
            "No\n"
          ]
        }
      ]
    }
  ]
}