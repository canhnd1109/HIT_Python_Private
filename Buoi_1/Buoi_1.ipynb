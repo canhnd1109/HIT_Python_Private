{
  "nbformat": 4,
  "nbformat_minor": 0,
  "metadata": {
    "colab": {
      "provenance": []
    },
    "kernelspec": {
      "name": "python3",
      "display_name": "Python 3"
    },
    "language_info": {
      "name": "python"
    }
  },
  "cells": [
    {
      "cell_type": "code",
      "execution_count": null,
      "metadata": {
        "id": "cpWAu-WHZSno"
      },
      "outputs": [],
      "source": []
    },
    {
      "cell_type": "markdown",
      "source": [
        "Câu 1: Python có thể làm được gì?\n",
        "- Phát triển ứng dụng web (Django, ...)\n",
        "- Phát triển game (Pygame,...)\n",
        "- Phát triển ứng dụng di động ( Kivy , BeeWare,...)\n",
        "- Phân tích dữ liệu và khoa học dữ liệu\n",
        "- Trí tuệ nhân tạo và học máy\n",
        "- Đồ họa và thiết kế đồ họa ( Python Imaging Library )\n",
        "- Mạng và hệ thống (Flask)\n",
        "- Tự động hóa và scripting\n",
        "- Internet of Things (IoT) (Adafruit)\n"
      ],
      "metadata": {
        "id": "bJ2bANooZlll"
      }
    },
    {
      "cell_type": "markdown",
      "source": [
        "Câu 2: Hãy so sánh đặc điểm của Python với ngôn ngữ C++\n",
        "\n",
        "1: Cú pháp và độ dễ đọc:\n",
        "\n",
        "- Python: Python có cú pháp đơn giản, gần gũi với ngôn ngữ tự nhiên\n",
        "- C++: C++ có cú pháp phức tạp hơn Python\n",
        "- Mã C ++ cần dấu ngoặc nhọn và dấu chấm phẩy để hoạt động. Python cung cấp một cách tiếp cận thân thiện hơn vì nó từ bỏ các quy tắc lập trình như vậy. Nó chủ yếu phụ thuộc vào thụt đầu dòng mã. Tính năng này đề cập đến thực tế là mỗi cấp độ thụt lề tạo ra cấu trúc của mã.\n",
        "- Thay vì sử dụng dấu chấm phẩy, Python coi phần cuối của dòng là phần cuối của câu lệnh. Nếu bạn cần câu lệnh của mình tiếp tục trong vài dòng, bạn nên sử dụng dấu gạch chéo ngược (). Trong C ++, bạn cần sử dụng dấu chấm phẩy để biểu thị phần cuối của câu lệnh.\n",
        "- Biểu thức Boolean khác nhau trong Python và C ++. C ++ trả về false hoặc true dựa trên các giá trị số. Ví dụ: mọi thứ được gắn nhãn là 0 là sai và các giá trị số khác là đúng. Python cũng có những khả năng khác. Ví dụ: không có hằng số nào và hằng số sai là sai, giống như các chuỗi hoặc tập hợp rỗng.\n",
        "- Các biến trong C ++ cần phải có một kiểu như float hoặc int vì ngôn ngữ này được định kiểu tĩnh. Nhập động là một tính năng của Python, nghĩa là bạn không cần chỉ ra loại đối tượng. Python cung cấp rất nhiều tính linh hoạt, điều này có thể dẫn đến việc sử dụng các biến trong các ngữ cảnh không thích hợp.\n",
        "- Kế thừa đơn và đa kế thừa hoạt động trong cả Python trong C ++.\n",
        "- Một khía cạnh quan trọng của Python vs C ++ là quản lý bộ nhớ. Python không cho phép bạn xử lý bộ nhớ trực tiếp. Thay vào đó, nó cung cấp tính năng quản lý bộ nhớ tự động, được gọi là bộ thu gom rác. C ++ không có tính năng như vậy và tất cả việc quản lý bộ nhớ diễn ra theo cách thủ công.\n",
        "- Dictionary Python so với map C ++ đề cập đến sự khác biệt đơn giản giữa thuật ngữ của các ngôn ngữ này. Trong C ++, maplà một vùng chứa lưu trữ các value được lập chỉ mục bởi một khóa. Dictionary bằng Python cũng vậy, nhưng linh hoạt hơn. Tại sao? Bởi vì các key và value không nhất thiết phải cùng loại.\n",
        "2: Tính linh hoạt và tốc độ thực thi:\n",
        "\n",
        "- Python: Python là một ngôn ngữ dựa trên kịch bản (scripting language) và được biên dịch tại thời điểm chạy (interpreted at runtime). Nó có tính linh hoạt cao, cho phép phát triển nhanh chóng và dễ dàng đọc, viết, và debug. Tuy nhiên, Python thường chậm hơn C++ về tốc độ thực thi.\n",
        "- C++: C++ là ngôn ngữ biên dịch tại thời điểm biên dịch (compiled language). Nó có hiệu suất cao và thời gian chạy nhanh hơn Python. C++ thích hợp cho việc phát triển ứng dụng đòi hỏi hiệu suất và tài nguyên cao.\n",
        "\n",
        "3: Kiểu dữ liệu và quản lý bộ nhớ:\n",
        "\n",
        "- Python: Python là một ngôn ngữ đa kiểu (dynamic typing) và không cần khai báo kiểu dữ liệu trước khi sử dụng biến. Nó có thu gom rác tự động (garbage collection) để quản lý bộ nhớ, giúp người lập trình không phải quan tâm đến việc cấp phát và giải phóng bộ nhớ.\n",
        "- C++: C++ là một ngôn ngữ tĩnh kiểu (static typing) và yêu cầu khai báo kiểu dữ liệu trước khi sử dụng biến. Người lập trình phải tự quản lý bộ nhớ bằng cách cấp phát và giải phóng bộ nhớ.\n",
        "\n",
        "4: Thư viện và hỗ trợ:\n",
        "\n",
        "- Python: Python có một số lượng lớn thư viện và frameworks phong phú, như NumPy, Pandas, Django và Flask, giúp việc phát triển ứng dụng nhanh chóng và dễ dàng. Python cũng có cộng đồng lớn và nhiều tài liệu hướng dẫn.\n",
        "- C++: C++ cũng có một loạt các thư viện mạnh mẽ, như STL (Standard Template Library), Boost, và Qt. Tuy nhiên, việc sử dụng thư viện và frameworks trong C++ thường đòi hỏi kiến thức chuyên sâu và phức tạp hơn so với Python.\n",
        "\n",
        "5: Ứng dụng và lĩnh vực sử dụng:\n",
        "\n",
        "- Python: Python thường được sử dụng trong lĩnh vực phân tích dữ liệu, trí tuệ nhân tạo (AI), học máy (machine learning), web development, và automation. Nó cũng là ngôn ngữ lập trình chính cho viết script và các công cụ quản lý hệ thống.\n",
        "- C++: C++ thườngđược sử dụng trong các ứng dụng đòi hỏi hiệu suất cao như phát triển game, phần mềm nhúng, đồ họa máy tính, và các hệ thống thời gian thực."
      ],
      "metadata": {
        "id": "ncAfoozQbRd5"
      }
    },
    {
      "cell_type": "markdown",
      "source": [
        "Câu 3: Python là ngôn ngữ biên dịch hay thông dịch? Vì sao?\n",
        "- Python được coi là một ngôn ngữ thông dịch (interpreted language)\n",
        "Vì\n",
        "- Ngôn ngữ này trực tiếp chạy từng dòng mã. Nếu có lỗi trong mã chương trình, nó sẽ ngừng chạy\n",
        "- Mô hình thông dịch: Python sử dụng mô hình thông dịch, trong đó trình thông dịch (interpreter) đọc từng dòng mã nguồn và dịch nó thành mã máy hoặc mã trung gian trước khi thực thi. Mỗi dòng mã nguồn được dịch và thực thi theo thứ tự tuần tự.\n",
        "\n",
        "- Khả năng thực thi tương tác: Python cho phép thực thi tương tác, nghĩa là người dùng có thể nhập lệnh trực tiếp vào trình thông dịch Python (REPL - Read-Eval-Print Loop) và nhận kết quả ngay lập tức. Điều này cho phép người dùng kiểm tra và thử nghiệm từng dòng lệnh một mà không cần phải biên dịch lại toàn bộ chương trình.\n",
        "\n",
        "- Linh hoạt và dễ sử dụng: Mô hình thông dịch của Python mang lại tính linh hoạt và dễ sử dụng. Bạn có thể viết và chạy các đoạn mã ngắn một cách nhanh chóng và dễ dàng. Python cung cấp cách tiếp cận phát triển nhanh (rapid prototyping) và cho phép người lập trình tương tác với mã nguồn một cách trực tiếp.\n",
        "\n",
        "- Quản lý lỗi và debugging: Khi một lỗi xảy ra trong quá trình thực thi, Python thông báo lỗi và dừng chương trình tại dòng lệnh gây ra lỗi. Điều này giúp người lập trình dễ dàng xác định vị trí lỗi và tiến hành sửa chữa."
      ],
      "metadata": {
        "id": "KXOp1nUrdSoh"
      }
    },
    {
      "cell_type": "markdown",
      "source": [
        "##Câu 5:\n"
      ],
      "metadata": {
        "id": "btUTc7vtfG35"
      }
    },
    {
      "cell_type": "markdown",
      "source": [
        "###1: Cách khai báo biến\n",
        "tenBien = giaTri\n",
        "\n",
        "Trong đó:\n",
        "\n",
        "- tenBien là tên của biến mà các bạn muốn đặt. Tên biến này không được bắt đầu bằng số hay các ký tự đặc biệt, mà chỉ được bắt đầu bằng chữ cái hoặc ký tự _ và nó có phân biệt hoa thường.\n",
        "- giaTri là giá trị của biến mà bạn muốn gán."
      ],
      "metadata": {
        "id": "BtBrPfWDfTXw"
      }
    },
    {
      "cell_type": "code",
      "source": [
        "a=19\n",
        "print(\"a= \",a)"
      ],
      "metadata": {
        "colab": {
          "base_uri": "https://localhost:8080/"
        },
        "id": "aunosYAMfuRd",
        "outputId": "c8a92063-826d-440b-bd77-f9727a5d96bb"
      },
      "execution_count": 1,
      "outputs": [
        {
          "output_type": "stream",
          "name": "stdout",
          "text": [
            "a=  19\n"
          ]
        }
      ]
    },
    {
      "cell_type": "markdown",
      "source": [
        "###2: Các toán tử\n",
        "\n",
        "1, Toán tử số học - Arithmetic Operators.\n",
        "\n",
        "- Toán tử cộng (+) các giá trị lại với nhau\n",
        "-\tToán tử trừ (-) các giá trị lại với nhau\n",
        "-\tToán tử nhân (*) các giá trị lại với nhau\n",
        "-\tToán tử chia (/) các giá trị cho nhau\n",
        "-\tToán tử chia lấy phần dư (%)\n",
        "-\tToán tử mũ (**)\n",
        "- Toán tử chia làm tròn xuống(//).\n",
        "\n",
        "\n",
        "\n",
        "\n",
        "\n",
        "\n",
        "\n",
        "\n",
        "\n",
        "\n"
      ],
      "metadata": {
        "id": "pnwFb4nkf2QC"
      }
    },
    {
      "cell_type": "code",
      "source": [
        "a = 19\n",
        "b = 11\n",
        "print (\"a+b= \",a+b)\n",
        "print (\"a-b= \",a-b)\n",
        "print (\"a*b= \",a*b)\n",
        "print (\"a/b= \",a/b)\n",
        "print (\"a%b= \",a%b)\n",
        "print (\"a**b= \",a**b)\n",
        "print (\"a//b= \",a//b)"
      ],
      "metadata": {
        "colab": {
          "base_uri": "https://localhost:8080/"
        },
        "id": "Wp63VEiUjIRG",
        "outputId": "ad308d7f-460b-421b-ccd5-dfeff203e1d0"
      },
      "execution_count": 2,
      "outputs": [
        {
          "output_type": "stream",
          "name": "stdout",
          "text": [
            "a+b=  30\n",
            "a-b=  8\n",
            "a*b=  209\n",
            "a/b=  1.7272727272727273\n",
            "a%b=  8\n",
            "a**b=  116490258898219\n",
            "a//b=  1\n"
          ]
        }
      ]
    },
    {
      "cell_type": "markdown",
      "source": [
        "2, Toán tử Quan hệ.\n",
        "- ==\tSo sánh giá trị của các đối số xem có bằng nhau hay không.\n",
        "Nếu bằng nhau thì kết quả trả về sẽ là True và ngược lại sẽ là False.\n",
        "\n",
        "- !=\tSo sánh giá trị của các đối số xem có khác nhau hay không.\n",
        "Nếu khác nhau thì kết quả trả về sẽ là True và ngược lại sẽ là False.\n",
        "\n",
        "- Dấu < đại diện cho phép toán nhỏ hơn, nếu đối số 1 nhỏ hơn đối số 2 thì kết quả sẽ trả về là True và ngược lại sẽ là False.\n",
        "\n",
        "- Dấu > đại diện cho phép toán lớn hơn, nếu đối số 1 lớn hơn đối số 2 thì kết quả sẽ trả về là True và ngược lại sẽ là False.\n",
        "\n",
        "-\tDấu >= đại diện cho phép toán nhỏ hơn hoặc bằng, nếu đối số 1 nhỏ hơn hoặc bằng đối số 2 thì kết quả sẽ trả về là True và ngược lại sẽ là False.\n",
        "\n",
        "-\tDấu >= đại diện cho phép toán lớn hơn hoặc bằng, nếu đối số 1 lớn hơn hoặc bằng đối số 2 thì kết quả sẽ trả về là True và ngược lại sẽ là False."
      ],
      "metadata": {
        "id": "M0xgAZyyj0yp"
      }
    },
    {
      "cell_type": "code",
      "source": [
        "a = 19\n",
        "b = 11\n",
        "print (\"a == b\", a==b)\n",
        "print (\"a != b\", a!=b)\n",
        "print (\"a < b\", a<b)\n",
        "print (\"a > b\", a>b)\n",
        "print (\"a <= b\", a<=b)\n",
        "print (\"a >= b\", a>=b)"
      ],
      "metadata": {
        "colab": {
          "base_uri": "https://localhost:8080/"
        },
        "id": "nGzihrrnj6Sg",
        "outputId": "997b8ed5-ee24-405f-f8ae-e16102dea548"
      },
      "execution_count": 3,
      "outputs": [
        {
          "output_type": "stream",
          "name": "stdout",
          "text": [
            "a == b False\n",
            "a != b True\n",
            "a < b False\n",
            "a > b True\n",
            "a <= b False\n",
            "a >= b True\n"
          ]
        }
      ]
    },
    {
      "cell_type": "markdown",
      "source": [
        "\n",
        "3, Toán tử gán.\n",
        "\n",
        "- =\tToán tử này dùng để gán giá trị của một đối tượng cho một giá trị\n",
        "- +=\tToán tử này cộng rồi gắn giá trị cho đối tượng\n",
        "- -=\tToán tử này trừ rồi gắn giá trị cho đối tượng\n",
        "- *=\tToán tử này trừ rồi gắn giá trị cho đối tượng\n",
        "- /=\tToán tử này chia rồi gắn giá trị cho đối tượng\n",
        "- %\tToán tử này chia hết rồi gắn giá trị cho đối tượng\n",
        "- **=\tToán tử này lũy thừa rồi gắn giá trị cho đối tượng\n",
        "- //=\tToán tử này chia làm tròn rồi gắn giá trị cho đối tượng"
      ],
      "metadata": {
        "id": "LfffIQ30kS0y"
      }
    },
    {
      "cell_type": "code",
      "source": [
        "a = 19\n",
        "b = 9\n",
        "\n",
        "c1=a\n",
        "a+=b\n",
        "# a-=b\n",
        "# a*=b\n",
        "# a/=b\n",
        "# a%=b\n",
        "# a**=b\n",
        "# a//=b\n",
        "print(\"c1=\",c1)\n",
        "print(\"a+=b = \",a)\n",
        "# print(\"a-=b = \",a)\n",
        "# print(\"a*=b = \",a)\n",
        "# print(\"a/=b = \",a)\n",
        "# print(\"a%=b = \",a)\n",
        "# print(\"a**=b = \",a)\n",
        "# print(\"a//=b = \",a)\n",
        "\n"
      ],
      "metadata": {
        "colab": {
          "base_uri": "https://localhost:8080/"
        },
        "id": "ST_H3HEdkTu_",
        "outputId": "1b5a902f-2567-4f4e-d4b6-06f15ec45185"
      },
      "execution_count": 11,
      "outputs": [
        {
          "output_type": "stream",
          "name": "stdout",
          "text": [
            "c1= 19\n",
            "b+=a =  28\n"
          ]
        }
      ]
    },
    {
      "cell_type": "markdown",
      "source": [
        "4, Toán tử logic.\n",
        "- and\tNếu 2 vế của toán tử này đều là True thì kết quả sẽ là True và ngược lại nếu 1 trong 2 vế là False thì kết quả trả về sẽ là False.\n",
        "- or\tNếu 1 trong 2 vế là True thì kết quả trả về sẽ là True và ngược lại nếu cả 2 vế là False thì kết quả trả về sẽ là False.\n",
        "- not\tĐây là dạng phủ định, nếu biểu thức là True thì nó sẽ trả về là False và ngược lại."
      ],
      "metadata": {
        "id": "poxvq0-DmwOU"
      }
    },
    {
      "cell_type": "markdown",
      "source": [
        "5, Toán tử biwter.\n",
        "- &\t, |, ^, ~\t, <<,\t>>"
      ],
      "metadata": {
        "id": "0h3jrJUWm9kb"
      }
    },
    {
      "cell_type": "markdown",
      "source": [
        "6, Toán Tử khai thác.\n",
        "- in\tNếu 1 đối số thuộc một tập đối số nó sẽ trả về True và ngược lại/\n",
        "- not in\tNếu 1 đối số không thuộc một tập đối số nó sẽ trả về True và ngược lại/"
      ],
      "metadata": {
        "id": "-KHqWYDMm48G"
      }
    },
    {
      "cell_type": "code",
      "source": [
        "a = 4\n",
        "b = [1,5,7,6,9]\n",
        "\n",
        "print (\"a in b \", a in b )\n",
        "print (\"a not in b\", a not in b)"
      ],
      "metadata": {
        "colab": {
          "base_uri": "https://localhost:8080/"
        },
        "id": "pkmzZB5xnvSF",
        "outputId": "a7ccf92a-79c6-4450-9b80-efdbfc1edc95"
      },
      "execution_count": 15,
      "outputs": [
        {
          "output_type": "stream",
          "name": "stdout",
          "text": [
            "a in b  False\n",
            "a not in b True\n"
          ]
        }
      ]
    },
    {
      "cell_type": "markdown",
      "source": [
        "7, Toán tử xác thực.\n",
        "- is\tToán tử này sẽ trả về True nếu a == b và ngược lại\n",
        "- is not\tToán tử này sẽ trả về True nếu a != b và ngược lại"
      ],
      "metadata": {
        "id": "8nnfabHIm7hX"
      }
    },
    {
      "cell_type": "code",
      "source": [
        "a = 19\n",
        "b = 11\n",
        "print (\"a is b = \", a is b)\n",
        "print (\"a is not b = \", a is not b)"
      ],
      "metadata": {
        "colab": {
          "base_uri": "https://localhost:8080/"
        },
        "id": "XaBgJvERnIsg",
        "outputId": "57a83ca5-6213-4ee2-9e80-12c8a6213261"
      },
      "execution_count": 14,
      "outputs": [
        {
          "output_type": "stream",
          "name": "stdout",
          "text": [
            "a is b =  False\n",
            "a is not b =  True\n"
          ]
        }
      ]
    },
    {
      "cell_type": "markdown",
      "source": [
        "###3: Các kiểu dữ liệu trong Python\n"
      ],
      "metadata": {
        "id": "NF7V2PC9n-r0"
      }
    },
    {
      "cell_type": "markdown",
      "source": [
        "- Kiểu dữ liệu số : int, float, complex"
      ],
      "metadata": {
        "id": "L_QHddBtoGP9"
      }
    },
    {
      "cell_type": "code",
      "source": [
        "a = 19\n",
        "b = 11.9\n",
        "print (\"a= \",a)\n",
        "print (\"b= \",b)"
      ],
      "metadata": {
        "colab": {
          "base_uri": "https://localhost:8080/"
        },
        "id": "fC3MQofRoYH0",
        "outputId": "87882858-be97-4e7b-bfe9-205610f4e627"
      },
      "execution_count": 16,
      "outputs": [
        {
          "output_type": "stream",
          "name": "stdout",
          "text": [
            "a=  19\n",
            "b=  11.9\n"
          ]
        }
      ]
    },
    {
      "cell_type": "markdown",
      "source": [
        "- Kiểu dữ liệu chuỗi : str"
      ],
      "metadata": {
        "id": "FEi4eDQ_oiKK"
      }
    },
    {
      "cell_type": "code",
      "source": [
        "a = \"hello 19\"\n",
        "print (\"a= \",a)"
      ],
      "metadata": {
        "colab": {
          "base_uri": "https://localhost:8080/"
        },
        "id": "ufWTo8psoklW",
        "outputId": "69777265-bb7e-485b-94c5-cf28f81d2b40"
      },
      "execution_count": 17,
      "outputs": [
        {
          "output_type": "stream",
          "name": "stdout",
          "text": [
            "a=  hello 19\n"
          ]
        }
      ]
    },
    {
      "cell_type": "markdown",
      "source": [
        "- Các loại trình tự : list, tuple."
      ],
      "metadata": {
        "id": "j-gLzaOtotTo"
      }
    },
    {
      "cell_type": "code",
      "source": [
        "a= [1,2,3,4,5,6]\n",
        "print (\"a= \", a)"
      ],
      "metadata": {
        "colab": {
          "base_uri": "https://localhost:8080/"
        },
        "id": "czqR--bpo_hd",
        "outputId": "8b3c9666-0705-4e97-a4d7-706986f182b0"
      },
      "execution_count": 18,
      "outputs": [
        {
          "output_type": "stream",
          "name": "stdout",
          "text": [
            "a=  [1, 2, 3, 4, 5, 6]\n"
          ]
        }
      ]
    },
    {
      "cell_type": "markdown",
      "source": [
        "- Kiểu Boolean : bool"
      ],
      "metadata": {
        "id": "vS4DQtjkpEgo"
      }
    },
    {
      "cell_type": "code",
      "source": [
        "print (\" NDC:19 === NDC:19\", \"NDC:19\"==\"NDC:19\")"
      ],
      "metadata": {
        "colab": {
          "base_uri": "https://localhost:8080/"
        },
        "id": "OYYMcoeapSiC",
        "outputId": "ed085931-1f7d-4ce2-865b-f74885ed0595"
      },
      "execution_count": 21,
      "outputs": [
        {
          "output_type": "stream",
          "name": "stdout",
          "text": [
            " NDC:19 === NDC:19 True\n"
          ]
        }
      ]
    },
    {
      "cell_type": "markdown",
      "source": [
        "- Các loại nhị phân : byte, bytearray, memoryview"
      ],
      "metadata": {
        "id": "LfJzfPJKpw05"
      }
    },
    {
      "cell_type": "code",
      "source": [
        "a = bytes(5)\n",
        "print(\"a= \",a)"
      ],
      "metadata": {
        "colab": {
          "base_uri": "https://localhost:8080/"
        },
        "id": "toRbrSPCpx8n",
        "outputId": "e6ded992-0c0f-4eae-d10b-5a72b7e57c9e"
      },
      "execution_count": 22,
      "outputs": [
        {
          "output_type": "stream",
          "name": "stdout",
          "text": [
            "a=  b'\\x00\\x00\\x00\\x00\\x00'\n"
          ]
        }
      ]
    },
    {
      "cell_type": "markdown",
      "source": [
        "- Loại dữ liệu ánh xạ : dict"
      ],
      "metadata": {
        "id": "yQy7jzpcp8PH"
      }
    },
    {
      "cell_type": "code",
      "source": [
        "a= dict(name=\"NDC:\", age=\"19\")\n",
        "print (\"a= \", a)"
      ],
      "metadata": {
        "colab": {
          "base_uri": "https://localhost:8080/"
        },
        "id": "2teB3KKcp9DS",
        "outputId": "89778e78-324b-4ff7-c4b8-40c738a9645c"
      },
      "execution_count": 23,
      "outputs": [
        {
          "output_type": "stream",
          "name": "stdout",
          "text": [
            "a=  {'name': 'NDC:', 'age': '19'}\n"
          ]
        }
      ]
    },
    {
      "cell_type": "markdown",
      "source": [
        "- Đặt kiểu dữ liệu : set, freezeset"
      ],
      "metadata": {
        "id": "5KapI4NzqPXN"
      }
    },
    {
      "cell_type": "code",
      "source": [
        "a= set((\"iphone\", \"samsung\"))\n",
        "print(\"a= \",a)"
      ],
      "metadata": {
        "colab": {
          "base_uri": "https://localhost:8080/"
        },
        "id": "dhXIxuImqQM2",
        "outputId": "e28e2255-ea14-4ea7-be50-0b2d1467186b"
      },
      "execution_count": 24,
      "outputs": [
        {
          "output_type": "stream",
          "name": "stdout",
          "text": [
            "a=  {'samsung', 'iphone'}\n"
          ]
        }
      ]
    }
  ]
}